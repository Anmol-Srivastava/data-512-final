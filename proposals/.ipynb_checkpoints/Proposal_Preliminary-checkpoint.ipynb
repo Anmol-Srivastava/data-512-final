{
 "cells": [
  {
   "cell_type": "markdown",
   "metadata": {},
   "source": [
    "# Overview\n",
    "\n",
    "In its current form, this notebook serves as a preliminary proposal for my final project for the DATA 512 (Human-Centered Data Science) course. The final project is meant to be a reproducible, useful, and reader-friendly body of research and analyses. The subject matter, datasets, and investigative questions are left for students to finalize. \n",
    "\n",
    "This proposal outlines my intention to research the growth and spread of the __prison-industrial complex (PIC)__, a broad term referring to the increasing construction of, investment in, and use of prisons by government and corporate entities. It includes background information, my specific experimental questions and resources, and anticipated issues. "
   ]
  },
  {
   "cell_type": "markdown",
   "metadata": {},
   "source": [
    "# Motivation & Problem Statement\n",
    "\n",
    "My interest in the topic comes from exposure to notable authors, activists, and public figures who point to the PIC as a source of continued oppression along racial, economic, or other lines. While such issues have recently bubbled to the top of mainstream discourse, the PIC and its critics are long-standing parts of society in the US, and warrant further debate. \n",
    "\n",
    "Many public-policy or governmental decisions involve rigorous scientific study to guarantee optimal socio-economic results. An analysis of the PIC's roots (and effects) may reveal useful truths about the operational effectiveness and efficiency of American prisons. Officials whose work involves budgets, public health, or law enforcement could all find value in this work. On a more human-centered, practical level, resulting analyses can enrich public debate around the effectiveness and ethicality of American incarceration. Understanding the PIC can inform everyday people's politics and shape the PIC's future. \n",
    "\n",
    "In short, my hope is to learn about the growth of the PIC over time, and the corresponding parties that have contributed to or profited from that growth. I want to track the time periods and geographical locations in which the PIC exploded into its current state, but also see who benefitted (or suffered) from that boom. "
   ]
  },
  {
   "cell_type": "markdown",
   "metadata": {},
   "source": [
    "# Data Selection\n",
    "\n",
    "To investigate the PIC, there are two major groups by which all necessary data can be categorized:\n",
    "\n",
    "1. Growth in size (*e.g.*, measuring the number of prisons, or number of imprisoned people, etc.)\n",
    "2. Growth in scope (*e.g.*, measuring the amount of corporate/governmental investments, budget allocations, costs, etc.)\n",
    "\n",
    "For the first type of data, I rely on an public-interest analysis project called [\"Communicating With Prisoners\"](https://www.acrosswalls.org/about/), a collection of primary sources, data, and references dealing with US prisons. I am specifically planning to use their dataset, [\"Prisoners by State and Sex, U.S. 1880-2010\"](https://www.acrosswalls.org/datasets/prisoners-us-state-sex-panel/) to analyze changes in prison population over time. It contains population counts for federal and state prisons (from 1880-2010), on an annual and state-by-state basis. Although it is difficult to verify, it notes that this data is pulled from past US Census surveys and yearly US Bureau of Justice statistics (from their \"Prisoner\" series). The authors of the project release all copyrights under the CCO 1.0 Universal Public Domain Dedication license, and encourage free use and distribution thereof. And while is a suitable corpus for tracking prison size over time, this set does have ethical issues attached. Namely, they are not the direct data source, but compilers. When drawing conclusions, I have to be wary of errors and author biases in accumulating and organizing this un-verified data. Also, these datasets in their raw form can have (however rare) identifying photographs or demographics, so I will need to perform sanitizing/anonymizing operations on the same. \n",
    "\n",
    "For the second part of the research push, I will use a suite of datasets regarding [Expenditure and Employment Data for the Criminal Justice System](https://www.icpsr.umich.edu/web/NACJD/series/87), hosted by the National Archive of Criminal Justice Data. It is a part of the US Bureau of Justice's \"Justice Expenditure and Employment\" data collection program. Specifically, it has payroll information, operational costs, and more, on a state-by-state basis. It is a heterogenous mixture of data files, which effectively span every year from 1971-2003. Per the access website, \"the public-use files in this collection are available for access by the general public.\" The program itself is intended to be fully transparent and accessible, although specific licenses are not mentioned. This data, which will help me track changes in prison \"business\" over time, has no foreseeable ethical conflicts. It is sanitized by pertinent government bodies, and is only vulnerable to erroneous provision of data in specific states or times."
   ]
  },
  {
   "cell_type": "markdown",
   "metadata": {},
   "source": [
    "# Unknowns & Dependencies\n",
    "\n",
    "There are certainly factors outside of my control which will inhibit timely analyis. Specifically, \"free and open\" data on this topic is messy and inconsistent. Not all sources of data offer enough years' worth of data, or state-wise splits. Other data on related issues like prison labor, for-profit prison finances, and more are behind a paywall. The data that *is* available is often ill-formatted and scattered across files. As such, it may prove difficult to homogenize Excel/SAS data, clean table headings and values, link the two different \"categories\" of data, and provide a reproducible analysis. If it turns out that these initial data sources are incompatible or insufficient, that may delay the production of any meaningful end-product. For example, the two datasets could have different granularities for counting populations (e.g., state vs. federal level). Or, the prisons for whom expenses are counted in one set may not be the ones for which populations are counted in the other. These are all serious but not insurmountable hurdles for this project."
   ]
  },
  {
   "cell_type": "code",
   "execution_count": null,
   "metadata": {},
   "outputs": [],
   "source": []
  }
 ],
 "metadata": {
  "kernelspec": {
   "display_name": "Python 3",
   "language": "python",
   "name": "python3"
  },
  "language_info": {
   "codemirror_mode": {
    "name": "ipython",
    "version": 3
   },
   "file_extension": ".py",
   "mimetype": "text/x-python",
   "name": "python",
   "nbconvert_exporter": "python",
   "pygments_lexer": "ipython3",
   "version": "3.7.6"
  }
 },
 "nbformat": 4,
 "nbformat_minor": 4
}
