{
 "cells": [
  {
   "cell_type": "markdown",
   "metadata": {},
   "source": [
    "# Overview\n",
    "\n",
    "This is an auxiliary notebook for the [main analyses](Main.ipynb), meant for documenting the data access and cleaning processes. All three streams of data (prisoner counts, prison costs, and overall populations, respectively) require additional  steps before they are ready for analysis. Some of these steps can be automated in a Python environment; certain minor adjustments must be done manually, and are also explained here.\n",
    "\n",
    "# Table of Contents\n",
    "\n",
    "I. [Prison Populations](#data1)\n",
    "\n",
    "&nbsp;&nbsp;&nbsp;&nbsp;&nbsp;&nbsp;&nbsp;&nbsp;[Description](#d1)\n",
    "\n",
    "&nbsp;&nbsp;&nbsp;&nbsp;&nbsp;&nbsp;&nbsp;&nbsp;[Access](#a1)\n",
    "   \n",
    "&nbsp;&nbsp;&nbsp;&nbsp;&nbsp;&nbsp;&nbsp;&nbsp;[Cleaning](#a2)\n",
    "\n",
    "II. [Prison Costs](#data2)\n",
    "\n",
    "&nbsp;&nbsp;&nbsp;&nbsp;&nbsp;&nbsp;&nbsp;&nbsp;[Description](#d2)\n",
    "\n",
    "&nbsp;&nbsp;&nbsp;&nbsp;&nbsp;&nbsp;&nbsp;&nbsp;[Access](#a3)\n",
    "   \n",
    "&nbsp;&nbsp;&nbsp;&nbsp;&nbsp;&nbsp;&nbsp;&nbsp;[Cleaning](#a4)\n",
    "\n",
    "III. [Overall Populations](#data3)\n",
    "\n",
    "&nbsp;&nbsp;&nbsp;&nbsp;&nbsp;&nbsp;&nbsp;&nbsp;[Description](#d3)\n",
    "\n",
    "&nbsp;&nbsp;&nbsp;&nbsp;&nbsp;&nbsp;&nbsp;&nbsp;[Access](#a5)\n",
    "   \n",
    "&nbsp;&nbsp;&nbsp;&nbsp;&nbsp;&nbsp;&nbsp;&nbsp;[Cleaning](#a6)"
   ]
  },
  {
   "cell_type": "markdown",
   "metadata": {},
   "source": [
    "# Prison Populations <a class=\"anchor\" id=\"data1\"></a>"
   ]
  },
  {
   "cell_type": "markdown",
   "metadata": {},
   "source": [
    "## Description <a class=\"anchor\" id=\"d1\"></a>\n",
    "\n",
    "Recall that the [Communicating With Prisoners](https://www.acrosswalls.org) project compiled counts of [Prisoners By State And Sex](https://www.acrosswalls.org/datasets/prisoners-us-state-sex-panel/) from 1880 to 2010. This is a count from federal and state correctional facilities, itself coming from the [US Bureau of Justice Statistics Prisoner Series](https://www.bjs.gov/index.cfm?ty=pbse&tid=0&dcid=0&sid=40&iid=0&sortby=&page=paging&curpg=4)."
   ]
  },
  {
   "cell_type": "markdown",
   "metadata": {},
   "source": [
    "## Access <a class=\"anchor\" id=\"a1\"></a>\n",
    "\n",
    "The source offers multiple access formats for the data file. To completely automate the data cleaning process (without using the Google Sheets API for Python) would require several steps. The URL of the public sheet hosted by the project would have to include the right tab information, range information (to exclude the extra mis-formatted parts of the CSV), and a specifier to return the result as a CSV file. In reality, many of these steps proved infeasible, and HTML parsers would be needed to scrape together a CSV from the raw response of a GET request. Meanwhile, the Google API route involves OAuth setup, use of the Google Console, and copy/paste operations on the data.\n",
    "\n",
    "It is simpler to document the download of the file and any additoinal steps (programmed or manual) to ready the data. Although this means the data will be stored in-repository, inclusion of both the raw and clean files means future users will not need to perform data processing unless interested in replication.\n",
    "\n",
    "1. We start by locating the Google Sheet hosted by the project, and visiting the relevant [panel tab](https://docs.google.com/spreadsheets/d/1V4_0T_lJPVBhKuMirhXncjWMI3C6crHgcD84qv1Y2JY/edit#gid=1100768042).\n",
    "\n",
    "![img1](./figures/data1_snippet1.png)"
   ]
  },
  {
   "cell_type": "markdown",
   "metadata": {},
   "source": [
    "2. It suffices to download this sheet only, as a CSV file, as highlighted in the picture.\n",
    "\n",
    "![img2](./figures/data1_snippet2.png)"
   ]
  },
  {
   "cell_type": "markdown",
   "metadata": {},
   "source": [
    "## Cleaning <a class=\"anchor\" id=\"a2\"></a>\n",
    "\n",
    "The result is the file store in [data/raw/prisoner_counts.csv](./data/raw). From here, we can automate data processing steps. Run all these steps in order, exactly once (it is best to restart from __*1*__ if errors are made).\n",
    "\n",
    "1. We load the file into a `pandas.DataFrame` object, taking care to handle the ill-formatted raw CSV file."
   ]
  },
  {
   "cell_type": "code",
   "execution_count": 32,
   "metadata": {},
   "outputs": [
    {
     "data": {
      "text/html": [
       "<div>\n",
       "<style scoped>\n",
       "    .dataframe tbody tr th:only-of-type {\n",
       "        vertical-align: middle;\n",
       "    }\n",
       "\n",
       "    .dataframe tbody tr th {\n",
       "        vertical-align: top;\n",
       "    }\n",
       "\n",
       "    .dataframe thead th {\n",
       "        text-align: right;\n",
       "    }\n",
       "</style>\n",
       "<table border=\"1\" class=\"dataframe\">\n",
       "  <thead>\n",
       "    <tr style=\"text-align: right;\">\n",
       "      <th></th>\n",
       "      <th>year</th>\n",
       "      <th>aglev</th>\n",
       "      <th>region</th>\n",
       "      <th>geography</th>\n",
       "      <th>class</th>\n",
       "      <th>sexratio</th>\n",
       "      <th>males</th>\n",
       "      <th>females</th>\n",
       "      <th>Unnamed: 8</th>\n",
       "      <th>source and notes</th>\n",
       "    </tr>\n",
       "  </thead>\n",
       "  <tbody>\n",
       "    <tr>\n",
       "      <th>0</th>\n",
       "      <td>2010</td>\n",
       "      <td>f</td>\n",
       "      <td>NaN</td>\n",
       "      <td>Federal</td>\n",
       "      <td>fedstate</td>\n",
       "      <td>14.48240</td>\n",
       "      <td>196222.0</td>\n",
       "      <td>13549.0</td>\n",
       "      <td>NaN</td>\n",
       "      <td>class definition:</td>\n",
       "    </tr>\n",
       "    <tr>\n",
       "      <th>1</th>\n",
       "      <td>2010</td>\n",
       "      <td>r</td>\n",
       "      <td>NaN</td>\n",
       "      <td>Midwest</td>\n",
       "      <td>fedstate</td>\n",
       "      <td>13.59031</td>\n",
       "      <td>245373.0</td>\n",
       "      <td>18055.0</td>\n",
       "      <td>NaN</td>\n",
       "      <td>fedstate, jail, bjs-total: prisoner statistics...</td>\n",
       "    </tr>\n",
       "    <tr>\n",
       "      <th>2</th>\n",
       "      <td>2010</td>\n",
       "      <td>r</td>\n",
       "      <td>NaN</td>\n",
       "      <td>Northeast</td>\n",
       "      <td>fedstate</td>\n",
       "      <td>18.73794</td>\n",
       "      <td>165100.0</td>\n",
       "      <td>8811.0</td>\n",
       "      <td>NaN</td>\n",
       "      <td>census-total, census-fed, census-state, census...</td>\n",
       "    </tr>\n",
       "    <tr>\n",
       "      <th>3</th>\n",
       "      <td>2010</td>\n",
       "      <td>r</td>\n",
       "      <td>NaN</td>\n",
       "      <td>South</td>\n",
       "      <td>fedstate</td>\n",
       "      <td>12.15678</td>\n",
       "      <td>604423.0</td>\n",
       "      <td>49719.0</td>\n",
       "      <td>NaN</td>\n",
       "      <td>NaN</td>\n",
       "    </tr>\n",
       "    <tr>\n",
       "      <th>4</th>\n",
       "      <td>2010</td>\n",
       "      <td>r</td>\n",
       "      <td>NaN</td>\n",
       "      <td>West</td>\n",
       "      <td>fedstate</td>\n",
       "      <td>12.41191</td>\n",
       "      <td>287944.0</td>\n",
       "      <td>23199.0</td>\n",
       "      <td>NaN</td>\n",
       "      <td>males and females are male and female in-priso...</td>\n",
       "    </tr>\n",
       "  </tbody>\n",
       "</table>\n",
       "</div>"
      ],
      "text/plain": [
       "   year aglev region  geography     class  sexratio     males  females  \\\n",
       "0  2010     f    NaN    Federal  fedstate  14.48240  196222.0  13549.0   \n",
       "1  2010     r    NaN    Midwest  fedstate  13.59031  245373.0  18055.0   \n",
       "2  2010     r    NaN  Northeast  fedstate  18.73794  165100.0   8811.0   \n",
       "3  2010     r    NaN      South  fedstate  12.15678  604423.0  49719.0   \n",
       "4  2010     r    NaN       West  fedstate  12.41191  287944.0  23199.0   \n",
       "\n",
       "   Unnamed: 8                                   source and notes  \n",
       "0         NaN                                  class definition:  \n",
       "1         NaN  fedstate, jail, bjs-total: prisoner statistics...  \n",
       "2         NaN  census-total, census-fed, census-state, census...  \n",
       "3         NaN                                                NaN  \n",
       "4         NaN  males and females are male and female in-priso...  "
      ]
     },
     "execution_count": 32,
     "metadata": {},
     "output_type": "execute_result"
    }
   ],
   "source": [
    "import pandas as pd\n",
    "df_pp_raw = pd.read_csv('./data/raw/prisoner_counts.csv', skiprows=3)\n",
    "df_pp_raw.head()"
   ]
  },
  {
   "cell_type": "markdown",
   "metadata": {},
   "source": [
    "2. Drop the right-most non-tabular columns, and the unneeded ratio and aglev columns."
   ]
  },
  {
   "cell_type": "code",
   "execution_count": 33,
   "metadata": {},
   "outputs": [
    {
     "data": {
      "text/html": [
       "<div>\n",
       "<style scoped>\n",
       "    .dataframe tbody tr th:only-of-type {\n",
       "        vertical-align: middle;\n",
       "    }\n",
       "\n",
       "    .dataframe tbody tr th {\n",
       "        vertical-align: top;\n",
       "    }\n",
       "\n",
       "    .dataframe thead th {\n",
       "        text-align: right;\n",
       "    }\n",
       "</style>\n",
       "<table border=\"1\" class=\"dataframe\">\n",
       "  <thead>\n",
       "    <tr style=\"text-align: right;\">\n",
       "      <th></th>\n",
       "      <th>year</th>\n",
       "      <th>region</th>\n",
       "      <th>geography</th>\n",
       "      <th>class</th>\n",
       "      <th>males</th>\n",
       "      <th>females</th>\n",
       "    </tr>\n",
       "  </thead>\n",
       "  <tbody>\n",
       "    <tr>\n",
       "      <th>0</th>\n",
       "      <td>2010</td>\n",
       "      <td>NaN</td>\n",
       "      <td>Federal</td>\n",
       "      <td>fedstate</td>\n",
       "      <td>196222.0</td>\n",
       "      <td>13549.0</td>\n",
       "    </tr>\n",
       "    <tr>\n",
       "      <th>1</th>\n",
       "      <td>2010</td>\n",
       "      <td>NaN</td>\n",
       "      <td>Midwest</td>\n",
       "      <td>fedstate</td>\n",
       "      <td>245373.0</td>\n",
       "      <td>18055.0</td>\n",
       "    </tr>\n",
       "    <tr>\n",
       "      <th>2</th>\n",
       "      <td>2010</td>\n",
       "      <td>NaN</td>\n",
       "      <td>Northeast</td>\n",
       "      <td>fedstate</td>\n",
       "      <td>165100.0</td>\n",
       "      <td>8811.0</td>\n",
       "    </tr>\n",
       "    <tr>\n",
       "      <th>3</th>\n",
       "      <td>2010</td>\n",
       "      <td>NaN</td>\n",
       "      <td>South</td>\n",
       "      <td>fedstate</td>\n",
       "      <td>604423.0</td>\n",
       "      <td>49719.0</td>\n",
       "    </tr>\n",
       "    <tr>\n",
       "      <th>4</th>\n",
       "      <td>2010</td>\n",
       "      <td>NaN</td>\n",
       "      <td>West</td>\n",
       "      <td>fedstate</td>\n",
       "      <td>287944.0</td>\n",
       "      <td>23199.0</td>\n",
       "    </tr>\n",
       "  </tbody>\n",
       "</table>\n",
       "</div>"
      ],
      "text/plain": [
       "   year region  geography     class     males  females\n",
       "0  2010    NaN    Federal  fedstate  196222.0  13549.0\n",
       "1  2010    NaN    Midwest  fedstate  245373.0  18055.0\n",
       "2  2010    NaN  Northeast  fedstate  165100.0   8811.0\n",
       "3  2010    NaN      South  fedstate  604423.0  49719.0\n",
       "4  2010    NaN       West  fedstate  287944.0  23199.0"
      ]
     },
     "execution_count": 33,
     "metadata": {},
     "output_type": "execute_result"
    }
   ],
   "source": [
    "df_pp_raw = df_pp_raw.drop(['Unnamed: 8', 'source and notes', 'sexratio', 'aglev'], axis=1)\n",
    "df_pp_raw.head()"
   ]
  },
  {
   "cell_type": "markdown",
   "metadata": {},
   "source": [
    "3. Regardless of other filters we apply, we need a column totalling male and female prisoner counts."
   ]
  },
  {
   "cell_type": "code",
   "execution_count": 34,
   "metadata": {},
   "outputs": [
    {
     "data": {
      "text/html": [
       "<div>\n",
       "<style scoped>\n",
       "    .dataframe tbody tr th:only-of-type {\n",
       "        vertical-align: middle;\n",
       "    }\n",
       "\n",
       "    .dataframe tbody tr th {\n",
       "        vertical-align: top;\n",
       "    }\n",
       "\n",
       "    .dataframe thead th {\n",
       "        text-align: right;\n",
       "    }\n",
       "</style>\n",
       "<table border=\"1\" class=\"dataframe\">\n",
       "  <thead>\n",
       "    <tr style=\"text-align: right;\">\n",
       "      <th></th>\n",
       "      <th>year</th>\n",
       "      <th>region</th>\n",
       "      <th>geography</th>\n",
       "      <th>class</th>\n",
       "      <th>males</th>\n",
       "      <th>females</th>\n",
       "      <th>total</th>\n",
       "    </tr>\n",
       "  </thead>\n",
       "  <tbody>\n",
       "    <tr>\n",
       "      <th>0</th>\n",
       "      <td>2010</td>\n",
       "      <td>NaN</td>\n",
       "      <td>Federal</td>\n",
       "      <td>fedstate</td>\n",
       "      <td>196222.0</td>\n",
       "      <td>13549.0</td>\n",
       "      <td>209771.0</td>\n",
       "    </tr>\n",
       "    <tr>\n",
       "      <th>1</th>\n",
       "      <td>2010</td>\n",
       "      <td>NaN</td>\n",
       "      <td>Midwest</td>\n",
       "      <td>fedstate</td>\n",
       "      <td>245373.0</td>\n",
       "      <td>18055.0</td>\n",
       "      <td>263428.0</td>\n",
       "    </tr>\n",
       "    <tr>\n",
       "      <th>2</th>\n",
       "      <td>2010</td>\n",
       "      <td>NaN</td>\n",
       "      <td>Northeast</td>\n",
       "      <td>fedstate</td>\n",
       "      <td>165100.0</td>\n",
       "      <td>8811.0</td>\n",
       "      <td>173911.0</td>\n",
       "    </tr>\n",
       "    <tr>\n",
       "      <th>3</th>\n",
       "      <td>2010</td>\n",
       "      <td>NaN</td>\n",
       "      <td>South</td>\n",
       "      <td>fedstate</td>\n",
       "      <td>604423.0</td>\n",
       "      <td>49719.0</td>\n",
       "      <td>654142.0</td>\n",
       "    </tr>\n",
       "    <tr>\n",
       "      <th>4</th>\n",
       "      <td>2010</td>\n",
       "      <td>NaN</td>\n",
       "      <td>West</td>\n",
       "      <td>fedstate</td>\n",
       "      <td>287944.0</td>\n",
       "      <td>23199.0</td>\n",
       "      <td>311143.0</td>\n",
       "    </tr>\n",
       "  </tbody>\n",
       "</table>\n",
       "</div>"
      ],
      "text/plain": [
       "   year region  geography     class     males  females     total\n",
       "0  2010    NaN    Federal  fedstate  196222.0  13549.0  209771.0\n",
       "1  2010    NaN    Midwest  fedstate  245373.0  18055.0  263428.0\n",
       "2  2010    NaN  Northeast  fedstate  165100.0   8811.0  173911.0\n",
       "3  2010    NaN      South  fedstate  604423.0  49719.0  654142.0\n",
       "4  2010    NaN       West  fedstate  287944.0  23199.0  311143.0"
      ]
     },
     "execution_count": 34,
     "metadata": {},
     "output_type": "execute_result"
    }
   ],
   "source": [
    "df_pp_raw['total'] = df_pp_raw.males + df_pp_raw.females\n",
    "df_pp_raw.head()"
   ]
  },
  {
   "cell_type": "markdown",
   "metadata": {},
   "source": [
    "4. To preserve the table when transformation are applied, we replace certain missing `NaN` values. Regions are `NaN` when the row is an aggregate (e.g., an extraneous row for total federal count rather than for one state). We can impute this description in place of `NaN`. "
   ]
  },
  {
   "cell_type": "code",
   "execution_count": 42,
   "metadata": {},
   "outputs": [
    {
     "data": {
      "text/html": [
       "<div>\n",
       "<style scoped>\n",
       "    .dataframe tbody tr th:only-of-type {\n",
       "        vertical-align: middle;\n",
       "    }\n",
       "\n",
       "    .dataframe tbody tr th {\n",
       "        vertical-align: top;\n",
       "    }\n",
       "\n",
       "    .dataframe thead th {\n",
       "        text-align: right;\n",
       "    }\n",
       "</style>\n",
       "<table border=\"1\" class=\"dataframe\">\n",
       "  <thead>\n",
       "    <tr style=\"text-align: right;\">\n",
       "      <th></th>\n",
       "      <th>year</th>\n",
       "      <th>region</th>\n",
       "      <th>geography</th>\n",
       "      <th>class</th>\n",
       "      <th>males</th>\n",
       "      <th>females</th>\n",
       "      <th>total</th>\n",
       "    </tr>\n",
       "  </thead>\n",
       "  <tbody>\n",
       "    <tr>\n",
       "      <th>0</th>\n",
       "      <td>2010</td>\n",
       "      <td>aggregate</td>\n",
       "      <td>Federal</td>\n",
       "      <td>fedstate</td>\n",
       "      <td>196222.0</td>\n",
       "      <td>13549.0</td>\n",
       "      <td>209771.0</td>\n",
       "    </tr>\n",
       "    <tr>\n",
       "      <th>1</th>\n",
       "      <td>2010</td>\n",
       "      <td>aggregate</td>\n",
       "      <td>Midwest</td>\n",
       "      <td>fedstate</td>\n",
       "      <td>245373.0</td>\n",
       "      <td>18055.0</td>\n",
       "      <td>263428.0</td>\n",
       "    </tr>\n",
       "    <tr>\n",
       "      <th>2</th>\n",
       "      <td>2010</td>\n",
       "      <td>aggregate</td>\n",
       "      <td>Northeast</td>\n",
       "      <td>fedstate</td>\n",
       "      <td>165100.0</td>\n",
       "      <td>8811.0</td>\n",
       "      <td>173911.0</td>\n",
       "    </tr>\n",
       "    <tr>\n",
       "      <th>3</th>\n",
       "      <td>2010</td>\n",
       "      <td>aggregate</td>\n",
       "      <td>South</td>\n",
       "      <td>fedstate</td>\n",
       "      <td>604423.0</td>\n",
       "      <td>49719.0</td>\n",
       "      <td>654142.0</td>\n",
       "    </tr>\n",
       "    <tr>\n",
       "      <th>4</th>\n",
       "      <td>2010</td>\n",
       "      <td>aggregate</td>\n",
       "      <td>West</td>\n",
       "      <td>fedstate</td>\n",
       "      <td>287944.0</td>\n",
       "      <td>23199.0</td>\n",
       "      <td>311143.0</td>\n",
       "    </tr>\n",
       "  </tbody>\n",
       "</table>\n",
       "</div>"
      ],
      "text/plain": [
       "   year     region  geography     class     males  females     total\n",
       "0  2010  aggregate    Federal  fedstate  196222.0  13549.0  209771.0\n",
       "1  2010  aggregate    Midwest  fedstate  245373.0  18055.0  263428.0\n",
       "2  2010  aggregate  Northeast  fedstate  165100.0   8811.0  173911.0\n",
       "3  2010  aggregate      South  fedstate  604423.0  49719.0  654142.0\n",
       "4  2010  aggregate       West  fedstate  287944.0  23199.0  311143.0"
      ]
     },
     "execution_count": 42,
     "metadata": {},
     "output_type": "execute_result"
    }
   ],
   "source": [
    "df_pp_raw['region'].fillna('aggregate', inplace=True)\n",
    "df_pp_raw.head()"
   ]
  },
  {
   "cell_type": "markdown",
   "metadata": {},
   "source": [
    "Observe that in some years, multiple totals are available from the `fedstate` source (US Bureeau of Justice Statistics) and the `census-total` source (Decennial Census). There are often discrepancies. While it is ideal to use the same source consistently, not all sources are available for all years, and the discrepancies imply that one source or the other is missing counts. To resolve years with multiple sources available, we can take the higher count, noting that there is a compromise in experimental consistency.\n",
    "\n",
    "5. Drop the class column. Group by year, region, and geography, then perform a maximum aggregation of the count columns."
   ]
  },
  {
   "cell_type": "code",
   "execution_count": 53,
   "metadata": {},
   "outputs": [
    {
     "data": {
      "text/html": [
       "<div>\n",
       "<style scoped>\n",
       "    .dataframe tbody tr th:only-of-type {\n",
       "        vertical-align: middle;\n",
       "    }\n",
       "\n",
       "    .dataframe tbody tr th {\n",
       "        vertical-align: top;\n",
       "    }\n",
       "\n",
       "    .dataframe thead th {\n",
       "        text-align: right;\n",
       "    }\n",
       "</style>\n",
       "<table border=\"1\" class=\"dataframe\">\n",
       "  <thead>\n",
       "    <tr style=\"text-align: right;\">\n",
       "      <th></th>\n",
       "      <th>year</th>\n",
       "      <th>region</th>\n",
       "      <th>geography</th>\n",
       "      <th>males</th>\n",
       "      <th>females</th>\n",
       "      <th>total</th>\n",
       "    </tr>\n",
       "  </thead>\n",
       "  <tbody>\n",
       "    <tr>\n",
       "      <th>0</th>\n",
       "      <td>1880</td>\n",
       "      <td>aggregate</td>\n",
       "      <td>U.S. Total</td>\n",
       "      <td>54190.0</td>\n",
       "      <td>5068.0</td>\n",
       "      <td>59258.0</td>\n",
       "    </tr>\n",
       "    <tr>\n",
       "      <th>1</th>\n",
       "      <td>1880</td>\n",
       "      <td>midwest</td>\n",
       "      <td>Illinois</td>\n",
       "      <td>3134.0</td>\n",
       "      <td>202.0</td>\n",
       "      <td>3336.0</td>\n",
       "    </tr>\n",
       "    <tr>\n",
       "      <th>2</th>\n",
       "      <td>1880</td>\n",
       "      <td>midwest</td>\n",
       "      <td>Indiana</td>\n",
       "      <td>1541.0</td>\n",
       "      <td>94.0</td>\n",
       "      <td>1635.0</td>\n",
       "    </tr>\n",
       "    <tr>\n",
       "      <th>3</th>\n",
       "      <td>1880</td>\n",
       "      <td>midwest</td>\n",
       "      <td>Iowa</td>\n",
       "      <td>806.0</td>\n",
       "      <td>13.0</td>\n",
       "      <td>819.0</td>\n",
       "    </tr>\n",
       "    <tr>\n",
       "      <th>4</th>\n",
       "      <td>1880</td>\n",
       "      <td>midwest</td>\n",
       "      <td>Kansas</td>\n",
       "      <td>1281.0</td>\n",
       "      <td>16.0</td>\n",
       "      <td>1297.0</td>\n",
       "    </tr>\n",
       "  </tbody>\n",
       "</table>\n",
       "</div>"
      ],
      "text/plain": [
       "   year     region   geography    males  females    total\n",
       "0  1880  aggregate  U.S. Total  54190.0   5068.0  59258.0\n",
       "1  1880    midwest    Illinois   3134.0    202.0   3336.0\n",
       "2  1880    midwest     Indiana   1541.0     94.0   1635.0\n",
       "3  1880    midwest        Iowa    806.0     13.0    819.0\n",
       "4  1880    midwest      Kansas   1281.0     16.0   1297.0"
      ]
     },
     "execution_count": 53,
     "metadata": {},
     "output_type": "execute_result"
    }
   ],
   "source": [
    "df_pp_raw = df_pp_raw.drop(['class'], axis=1)\n",
    "df_pp_grouped = df_pp_raw.groupby(['year', 'region', 'geography']).max().reset_index()\n",
    "df_pp_grouped.head()"
   ]
  },
  {
   "cell_type": "markdown",
   "metadata": {},
   "source": [
    "6. At this point the data can be used in the main analyses. We will save this cleaned version as a CSV at [data/clean/prisoner_counts.csv](./data/clean)."
   ]
  },
  {
   "cell_type": "code",
   "execution_count": 56,
   "metadata": {},
   "outputs": [],
   "source": [
    "df_pp_grouped.to_csv('./data/clean/prisoner_counts.csv')"
   ]
  },
  {
   "cell_type": "markdown",
   "metadata": {},
   "source": [
    "# Prison Costs <a class=\"anchor\" id=\"data2\"></a>"
   ]
  },
  {
   "cell_type": "markdown",
   "metadata": {},
   "source": [
    "## Description <a class=\"anchor\" id=\"d2\"></a>\n",
    "\n",
    "Stuff."
   ]
  },
  {
   "cell_type": "markdown",
   "metadata": {},
   "source": [
    "## Access <a class=\"anchor\" id=\"a3\"></a>\n",
    "\n",
    "Stuff.\n",
    "\n",
    "Code."
   ]
  },
  {
   "cell_type": "markdown",
   "metadata": {},
   "source": [
    "## Cleaning <a class=\"anchor\" id=\"a4\"></a>\n",
    "\n",
    "Manual Adjustments\n",
    "\n",
    "Python cleaning (maybe include averaging, etc.). "
   ]
  },
  {
   "cell_type": "markdown",
   "metadata": {},
   "source": [
    "# Overall Populations <a class=\"anchor\" id=\"data3\"></a>"
   ]
  },
  {
   "cell_type": "markdown",
   "metadata": {},
   "source": [
    "## Description <a class=\"anchor\" id=\"d3\"></a>\n",
    "\n",
    "US population data comes primarily from the US Census Bureau: via the decennial Census, which filled decades with constant-growth estimates until 1960, and the yearly American Community Survey thereafter. The aggregator here is the international [World Bank Group](https://www.worldbank.org/). Specifically, its [World Development Indicators](https://datacatalog.worldbank.org/dataset/world-development-indicators) project collects vast development data for several countries. Its [aggregation of population over time in the US](https://data.worldbank.org/indicator/SP.POP.TOTL?locations=US) is cited as a direct combination of the Census Bureau data. State-level granularity is thus far not offered by any known aggregator for sufficient years, and impractical to self-compile."
   ]
  },
  {
   "cell_type": "markdown",
   "metadata": {},
   "source": [
    "## Access <a class=\"anchor\" id=\"a5\"></a>\n",
    "\n",
    "Since only a national-level series is required, there are several ways to access the World Development Indicators data. Third-party APIs can wrap the World Bank HTTP GET request support, but the Group's [online database](https://databank.worldbank.org/source/world-development-indicators#) interface is a simpler approach. It allows us to select only the small slice of data we need, and store it in-repository so future users need not re-acquire it.\n",
    "\n",
    "1. Visit the [interface](https://databank.worldbank.org/source/world-development-indicators#) and select \"World Development Indicators\" for \"Database\".\n",
    "\n",
    "&nbsp;&nbsp;&nbsp;&nbsp;&nbsp;&nbsp;![img](./figures/data3_snippet1.png)\n",
    "\n",
    "2. Select \"United States\" for \"Country\".\n",
    "\n",
    "&nbsp;&nbsp;&nbsp;&nbsp;&nbsp;&nbsp; ![img](./figures/data3_snippet2.png)\n",
    "\n",
    "3. Select \"Population, total\" for \"Series\".\n",
    "&nbsp;&nbsp;&nbsp;&nbsp;&nbsp;&nbsp;![img](./figures/data3_snippet3.png)\n",
    "\n",
    "4. For \"Time\", click the \"select all\" icon.\n",
    "&nbsp;&nbsp;&nbsp;&nbsp;&nbsp;&nbsp;![img](./figures/data3_snippet4.png)\n",
    "\n",
    "5. Download the slice as-is.\n",
    "\n",
    "![img](./figures/data3_snippet5.png)  \n",
    "  \n",
    "  "
   ]
  },
  {
   "cell_type": "markdown",
   "metadata": {},
   "source": [
    "## Cleaning <a class=\"anchor\" id=\"a6\"></a>\n",
    "\n",
    "The result of the __Access__ step is the raw file stored in [data/raw/overall_population.xlsx](./data/raw/), ready for cleaning. Execute in order, once (restart if errors made).\n",
    "\n",
    "1. Load into `pandas.DataFrame` object, with attention to any mis-formatting."
   ]
  },
  {
   "cell_type": "code",
   "execution_count": 109,
   "metadata": {},
   "outputs": [
    {
     "data": {
      "text/html": [
       "<div>\n",
       "<style scoped>\n",
       "    .dataframe tbody tr th:only-of-type {\n",
       "        vertical-align: middle;\n",
       "    }\n",
       "\n",
       "    .dataframe tbody tr th {\n",
       "        vertical-align: top;\n",
       "    }\n",
       "\n",
       "    .dataframe thead th {\n",
       "        text-align: right;\n",
       "    }\n",
       "</style>\n",
       "<table border=\"1\" class=\"dataframe\">\n",
       "  <thead>\n",
       "    <tr style=\"text-align: right;\">\n",
       "      <th></th>\n",
       "      <th></th>\n",
       "      <th>1960</th>\n",
       "      <th>1961</th>\n",
       "      <th>1962</th>\n",
       "      <th>1963</th>\n",
       "      <th>1964</th>\n",
       "      <th>1965</th>\n",
       "      <th>Unnamed: 7</th>\n",
       "      <th>1966</th>\n",
       "      <th>1967</th>\n",
       "    </tr>\n",
       "  </thead>\n",
       "  <tbody>\n",
       "    <tr>\n",
       "      <th>0</th>\n",
       "      <td>Population, total</td>\n",
       "      <td>180671000.0</td>\n",
       "      <td>183691000.0</td>\n",
       "      <td>186538000.0</td>\n",
       "      <td>189242000.0</td>\n",
       "      <td>191889000.0</td>\n",
       "      <td>194303000.0</td>\n",
       "      <td>NaN</td>\n",
       "      <td>196560000.0</td>\n",
       "      <td>198712000.0</td>\n",
       "    </tr>\n",
       "  </tbody>\n",
       "</table>\n",
       "</div>"
      ],
      "text/plain": [
       "                             1960         1961         1962         1963  \\\n",
       "0  Population, total  180671000.0  183691000.0  186538000.0  189242000.0   \n",
       "\n",
       "          1964         1965  Unnamed: 7         1966         1967  \n",
       "0  191889000.0  194303000.0         NaN  196560000.0  198712000.0  "
      ]
     },
     "execution_count": 109,
     "metadata": {},
     "output_type": "execute_result"
    }
   ],
   "source": [
    "df_op_raw = pd.read_excel('./data/raw/overall_population.xlsx', nrows=1, thousands=',')\n",
    "df_op_raw.iloc[:,:10]"
   ]
  },
  {
   "cell_type": "markdown",
   "metadata": {},
   "source": [
    "2. Drop three erroneous columns (two invalid, one for the blank 2020 count)."
   ]
  },
  {
   "cell_type": "code",
   "execution_count": 110,
   "metadata": {},
   "outputs": [
    {
     "data": {
      "text/html": [
       "<div>\n",
       "<style scoped>\n",
       "    .dataframe tbody tr th:only-of-type {\n",
       "        vertical-align: middle;\n",
       "    }\n",
       "\n",
       "    .dataframe tbody tr th {\n",
       "        vertical-align: top;\n",
       "    }\n",
       "\n",
       "    .dataframe thead th {\n",
       "        text-align: right;\n",
       "    }\n",
       "</style>\n",
       "<table border=\"1\" class=\"dataframe\">\n",
       "  <thead>\n",
       "    <tr style=\"text-align: right;\">\n",
       "      <th></th>\n",
       "      <th>1960</th>\n",
       "      <th>1961</th>\n",
       "      <th>1962</th>\n",
       "      <th>1963</th>\n",
       "      <th>1964</th>\n",
       "      <th>1965</th>\n",
       "      <th>1966</th>\n",
       "      <th>1967</th>\n",
       "      <th>1968</th>\n",
       "      <th>1969</th>\n",
       "    </tr>\n",
       "  </thead>\n",
       "  <tbody>\n",
       "    <tr>\n",
       "      <th>0</th>\n",
       "      <td>180671000.0</td>\n",
       "      <td>183691000.0</td>\n",
       "      <td>186538000.0</td>\n",
       "      <td>189242000.0</td>\n",
       "      <td>191889000.0</td>\n",
       "      <td>194303000.0</td>\n",
       "      <td>196560000.0</td>\n",
       "      <td>198712000.0</td>\n",
       "      <td>200706000.0</td>\n",
       "      <td>202677000.0</td>\n",
       "    </tr>\n",
       "  </tbody>\n",
       "</table>\n",
       "</div>"
      ],
      "text/plain": [
       "          1960         1961         1962         1963         1964  \\\n",
       "0  180671000.0  183691000.0  186538000.0  189242000.0  191889000.0   \n",
       "\n",
       "          1965         1966         1967         1968         1969  \n",
       "0  194303000.0  196560000.0  198712000.0  200706000.0  202677000.0  "
      ]
     },
     "execution_count": 110,
     "metadata": {},
     "output_type": "execute_result"
    }
   ],
   "source": [
    "df_op_raw = df_op_raw.drop([' ', 'Unnamed: 7', '2020'], axis=1)\n",
    "df_op_raw.iloc[:, :10]"
   ]
  },
  {
   "cell_type": "markdown",
   "metadata": {},
   "source": [
    "3. Pivot the table and make the values numeric."
   ]
  },
  {
   "cell_type": "code",
   "execution_count": 111,
   "metadata": {},
   "outputs": [
    {
     "data": {
      "text/html": [
       "<div>\n",
       "<style scoped>\n",
       "    .dataframe tbody tr th:only-of-type {\n",
       "        vertical-align: middle;\n",
       "    }\n",
       "\n",
       "    .dataframe tbody tr th {\n",
       "        vertical-align: top;\n",
       "    }\n",
       "\n",
       "    .dataframe thead th {\n",
       "        text-align: right;\n",
       "    }\n",
       "</style>\n",
       "<table border=\"1\" class=\"dataframe\">\n",
       "  <thead>\n",
       "    <tr style=\"text-align: right;\">\n",
       "      <th></th>\n",
       "      <th>year</th>\n",
       "      <th>total_population</th>\n",
       "    </tr>\n",
       "  </thead>\n",
       "  <tbody>\n",
       "    <tr>\n",
       "      <th>0</th>\n",
       "      <td>1960</td>\n",
       "      <td>180671000</td>\n",
       "    </tr>\n",
       "    <tr>\n",
       "      <th>1</th>\n",
       "      <td>1961</td>\n",
       "      <td>183691000</td>\n",
       "    </tr>\n",
       "    <tr>\n",
       "      <th>2</th>\n",
       "      <td>1962</td>\n",
       "      <td>186538000</td>\n",
       "    </tr>\n",
       "    <tr>\n",
       "      <th>3</th>\n",
       "      <td>1963</td>\n",
       "      <td>189242000</td>\n",
       "    </tr>\n",
       "    <tr>\n",
       "      <th>4</th>\n",
       "      <td>1964</td>\n",
       "      <td>191889000</td>\n",
       "    </tr>\n",
       "  </tbody>\n",
       "</table>\n",
       "</div>"
      ],
      "text/plain": [
       "   year  total_population\n",
       "0  1960         180671000\n",
       "1  1961         183691000\n",
       "2  1962         186538000\n",
       "3  1963         189242000\n",
       "4  1964         191889000"
      ]
     },
     "execution_count": 111,
     "metadata": {},
     "output_type": "execute_result"
    }
   ],
   "source": [
    "df_pivot = df_op_raw.transpose().reset_index()\n",
    "df_pivot.columns = ['year', 'total_population']\n",
    "df_pivot.year = df_pivot.year.astype(int)\n",
    "df_pivot.total_population = df_pivot.total_population.astype(int)\n",
    "df_pivot.head()"
   ]
  },
  {
   "cell_type": "markdown",
   "metadata": {},
   "source": [
    "4. We save this result as a clean CSV file, ready for main analyses, in [/data/clean/overall_population.csv](./data/clean)."
   ]
  },
  {
   "cell_type": "code",
   "execution_count": 113,
   "metadata": {},
   "outputs": [],
   "source": [
    "df_pivot.to_csv('./data/clean/overall_population.csv')"
   ]
  }
 ],
 "metadata": {
  "kernelspec": {
   "display_name": "Python 3",
   "language": "python",
   "name": "python3"
  },
  "language_info": {
   "codemirror_mode": {
    "name": "ipython",
    "version": 3
   },
   "file_extension": ".py",
   "mimetype": "text/x-python",
   "name": "python",
   "nbconvert_exporter": "python",
   "pygments_lexer": "ipython3",
   "version": "3.7.6"
  }
 },
 "nbformat": 4,
 "nbformat_minor": 4
}
