{
 "cells": [
  {
   "cell_type": "markdown",
   "metadata": {},
   "source": [
    "# Overview\n",
    "\n",
    "This notebook serves as a finalized proposal for my final project for the DATA 512 (Human-Centered Data Science) course. The final project is meant to be a reproducible, useful, and accessible body of research and analyses. The subject matter, datasets, and investigative questions are left for students to finalize. \n",
    "\n",
    "This proposal outlines my intention to research the growth and spread of the __prison-industrial complex (PIC)__, a broad term referring to the increasing construction of, investment in, and use of prisons by government and corporate entities. It includes background information, my specific experimental questions and methods, and anticipated issues. "
   ]
  },
  {
   "cell_type": "markdown",
   "metadata": {},
   "source": [
    "# Motivation\n",
    "\n",
    "A key clarification for this investigation: __it is about prisons, not about crime__. Indeed, this distinction is what informs the project. Notable authors, activists, and public figures have made increasingly potent arguments that prisons are not fulfilling their roles as solutions to socio-economic problems. Instead, prisons are called out as poorly-imagined and unethically-operated institutions.\n",
    "\n",
    "Furthermore, prisons are often seen as just a part of the prison-industrial complex, which in turn is attributed as a source of continued oppression along racial, economic, or other lines. As I point out in later stages of this proposal and this project, the PIC and its critics are long-standing parts of American life. The increasing privatization and worsening conditions of American incarceration thus warrant further study and debate, and justify this class project. "
   ]
  },
  {
   "cell_type": "markdown",
   "metadata": {},
   "source": [
    "# Background Work\n",
    "\n",
    "The effects of the PIC are already well-known in specific eras and areas. In her book \"Golden Gulag\" (reviewed in [this blog post](http://californiacorrectionscrisis.blogspot.com/2013/02/book-review-golden-gulag-by-ruth-wilson.html) on correctional policy), scholar Ruth Wilson Gilmore describes how prisons colonized the geography of California. Meanwhile, scholar Ashley Nellis confirms in that Black and Latino populations are represented at disturbingly and disproportionately higher rates in prisons in several states, from Oklahoma to Minnesota, in [this recent piece](https://www.sentencingproject.org/publications/color-of-justice-racial-and-ethnic-disparity-in-state-prisons/) for The Sentencing Project (an anti-mass incarceration organization) . \n",
    "\n",
    "The increase in incarceration, at every level of government and across the US, has invited heaps of academic, journalistic, and casual study. It is well-known that prisons frequently suffer from poor conditions (as summarized [here](https://eji.org/issues/prison-conditions/) by the Equal Justice Initiative), a biased justice system, and an explosive privatization (as commented on [here](https://www.americanprogress.org/issues/democracy/reports/2019/08/30/473966/private-prisons-profiting-trump-administration/) by the Center for American Progress).\n",
    "\n",
    "So, there is a worthwhile, data-backed, and topical study to be done on a carceral apparatus that is taken for granted. Prior work lets this investigation skip the basic questions. We don't need to verify that people of color are more harmed by prisons, or that prison officials can create poor mental and physical conditions, or that prison labor has been used in increasing quantities. Instead, we can take a step back and ask *where* and *when* these trends materialized. News and activism provide a thorough picturization of the material effects of the PIC. What is less discussed and well-known is the \"big picture\": the historical catalysts for our prisons' current state, and how these catalysts have manifested in different parts of the country. "
   ]
  },
  {
   "cell_type": "markdown",
   "metadata": {},
   "source": [
    "# Problem Statement\n",
    "\n",
    "This project asks whether the PIC has grown at a commensurate rate with overall population, and how this effect differs across states, over time. This necessarily involves certain sub-questions. \n",
    "\n",
    "## Research Questions & Hypotheses\n",
    "\n",
    "1. For the entire country, and in each state, have prisons, prison populations, and prison expenditures multiplied at a similar rate as the overall population? Or have prisons expanded slower or quicker than the communities they are located in? A naive, hypothesis is that if populations increase linearly/expontentially/per some other pattern, the raw volume of prisoners must also increase at a similar rate. The curve of best fit that best applies to overall populations, should best apply to the prison expansion metrics. \n",
    "\n",
    "    - Follow-Up: Across the country, and in each state, are there specific periods of time to which we can attribute \"prison booms\"? In other words, can we find and identify the years in which there were irregular spikes in prison expansion (using the aforementioned measures)? Our prevailing theory is that historical events such as the Reagan Era (1980s) and the 1994 Crime Bill are examples of exactly such time periods. \n",
    "\n",
    "\n",
    "2. Is there some grouping of US states along which differences in prison expansion can be explained? For example, does the historical expansion of prisons differ significantly between industrial and agricultural states, politically \"red\" or \"blue\" states, or some other such categorization? It is difficult to formulate an exact hypothesis, since the result depends on the expansion rates found in the first question, and an ongoing, exploratory search of state groupings. \n",
    "\n",
    "\n",
    "## Data\n",
    "\n",
    "There are major and minor sources of data. To identify expansion rates and state-by-state prison populations, we need robust datasets (for example, \"full\" datasets with prison occupancy counts, cost numbers, per year, by state). To provide context on historical or geographical trends, it suffices to use existing summaries of data (for example, existing journalism that has already visualized data on states' political affiliations over time). \n",
    "\n",
    "Firstly, we rely on a public-interest analysis project called [\"Communicating With Prisoners\"](https://www.acrosswalls.org/about/), a collection of primary sources, data, and references dealing with US prisons. I am specifically planning to use their dataset, [\"Prisoners by State and Sex, U.S. 1880-2010\"](https://www.acrosswalls.org/datasets/prisoners-us-state-sex-panel/) to analyze changes in prison population over time. It contains population counts for federal and state prisons (from 1880-2010), on an annual and state-by-state basis. It notes that this data is pulled from past US Census surveys and yearly US Bureau of Justice statistics (from their \"Prisoner\" series). The authors of the project release all copyrights under the CCO 1.0 Universal Public Domain Dedication license, and encourage free use and distribution thereof. And while is a suitable corpus for tracking prison size over time, this set does have ethical issues attached. Namely, they are not the direct data source, but compilers. When drawing conclusions, I have to be wary of errors and author biases in accumulating and organizing this un-verified data. Also, these datasets in their raw form can have (however rare) identifying photographs or demographics, so I will need to perform sanitizing/anonymizing operations on the same. \n",
    "\n",
    "Secondly, I will use a suite of datasets regarding [Expenditure and Employment Data for the Criminal Justice System](https://www.icpsr.umich.edu/web/NACJD/series/87), hosted by the National Archive of Criminal Justice Data. It is a part of the US Bureau of Justice's \"Justice Expenditure and Employment\" data collection program. Specifically, it has payroll information, operational costs, and more, on a state-by-state basis. It is a heterogenous mixture of data files, which effectively span every year from 1971-2003. Per the access website, \"the public-use files in this collection are available for access by the general public.\" The program itself is intended to be fully transparent and accessible, although specific licenses are not mentioned. This data, which will help me track changes in prison \"business\" over time, has no foreseeable ethical conflicts. It is sanitized by pertinent government bodies, and is only vulnerable to erroneous provision of data in specific states or times.\n",
    "\n",
    "To compare these data with overall populations over time, I will use [Population and Housing Unit Estimates](https://www.census.gov/programs-surveys/popest/data/data-sets.1970.html) from the US Census Bureau. This will help me answer question (1), by comparing prison expansion to state-by-state population counts (ranging from 1970 to present day). In accordance with the Bureau's \"Open Data\" policy and certain government decrees (M-10-06, M-13-13), this data is free to use for personal, commercial, or academic purposes. It should have no ethical limitations as it is a part of a transparent publishing ecosystem. \n",
    "\n",
    "\n",
    "\n",
    "## Methodologies\n",
    "\n",
    "For question (1), we need to know how the country and its prisons have changed over time. Given several raw counts in time series format, we want to categorize the nature of the growth (linear, exponential, etc.). I will apply multiple regression tests (linear regression, generalized linear models, non-linear regression) as well as corresponding goodness-of-fit tests (R-squared, Shapiro-Wilk, etc.) to verify the appropriateness of the models. This will help us label the growth pattern of each metric, and then identify whether the growth patterns are statistically significant (and similar). \n",
    "\n",
    "For question (2), we perform various \"state groupings\", and then test for significant difference between group means (in terms of prison costs or occupancy). Depending on the groupings and exploration of data distributions, I will apply t-tests, Wilcoxon tests, One/Two-Way ANOVA, and other processes to determine statistically significant differences between \"sets\" of states. This will help show whether categorizing states in \"X vs. Y states\" terms will or will not explain differences in prison expansion rates."
   ]
  },
  {
   "cell_type": "markdown",
   "metadata": {},
   "source": [
    "# Unknowns & Dependencies\n",
    "\n",
    "There are certainly factors outside of my control which will inhibit timely analyis. Specifically, \"free and open\" data on this topic is messy and inconsistent. Not all sources of data offer enough years' worth of data, or state-wise splits. Other data on related issues like prison labor, for-profit prison finances, and more are behind a paywall. The data that *is* available is often ill-formatted and scattered across files. As such, it may prove difficult to homogenize Excel/SAS data, clean table headings and values, link the two different \"categories\" of data, and provide a reproducible analysis. If it turns out that these initial data sources are incompatible or insufficient, that may delay the production of any meaningful end-product. For example, the two datasets could have different granularities for counting populations (e.g., state vs. federal level). Or, the prisons for whom expenses are counted in one set may not be the ones for which populations are counted in the other. These are all serious but not insurmountable hurdles for this project."
   ]
  },
  {
   "cell_type": "code",
   "execution_count": null,
   "metadata": {},
   "outputs": [],
   "source": []
  }
 ],
 "metadata": {
  "kernelspec": {
   "display_name": "Python 3",
   "language": "python",
   "name": "python3"
  },
  "language_info": {
   "codemirror_mode": {
    "name": "ipython",
    "version": 3
   },
   "file_extension": ".py",
   "mimetype": "text/x-python",
   "name": "python",
   "nbconvert_exporter": "python",
   "pygments_lexer": "ipython3",
   "version": "3.7.6"
  }
 },
 "nbformat": 4,
 "nbformat_minor": 4
}
